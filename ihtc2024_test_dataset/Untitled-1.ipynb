{
 "cells": [
  {
   "cell_type": "markdown",
   "metadata": {},
   "source": [
    "# Import Required Libraries\n",
    "Import any necessary libraries, such as NumPy or pandas if needed."
   ]
  },
  {
   "cell_type": "code",
   "execution_count": null,
   "metadata": {},
   "outputs": [],
   "source": [
    "# Import Required Libraries\n",
    "import numpy as np\n",
    "import pandas as pd"
   ]
  },
  {
   "cell_type": "markdown",
   "metadata": {},
   "source": [
    "# Define Age Groups\n",
    "Define a dictionary for age groups: {0: 'Infant', 1: 'adult', 2: 'elderly'}."
   ]
  },
  {
   "cell_type": "code",
   "execution_count": null,
   "metadata": {},
   "outputs": [],
   "source": [
    "# Define Age Groups\n",
    "age_groups = {0: \"Infant\", 1: \"adult\", 2: \"elderly\"}"
   ]
  },
  {
   "cell_type": "markdown",
   "metadata": {},
   "source": [
    "# Initialize Room Age Mix\n",
    "Initialize the room_age_mix variable as a list of lists containing sets."
   ]
  },
  {
   "cell_type": "code",
   "execution_count": null,
   "metadata": {},
   "outputs": [],
   "source": [
    "# Initialize Room Age Mix\n",
    "num_days = 7  # Example number of days\n",
    "num_rooms = 5  # Example number of rooms\n",
    "\n",
    "# Initialize room_age_mix as a list of lists containing sets\n",
    "room_age_mix = [[set() for _ in range(num_rooms)] for _ in range(num_days)]\n",
    "\n",
    "# Loop through age groups and add them to room_age_mix\n",
    "for day in range(num_days):\n",
    "    for room in range(num_rooms):\n",
    "        for age_group in age_groups.values():\n",
    "            room_age_mix[day][room].add(age_group)\n",
    "\n",
    "room_age_mix"
   ]
  },
  {
   "cell_type": "markdown",
   "metadata": {},
   "source": [
    "# Loop Through Age Groups and Add to Room Age Mix\n",
    "Loop through the age groups and add them to the appropriate sets in room_age_mix."
   ]
  },
  {
   "cell_type": "code",
   "execution_count": null,
   "metadata": {},
   "outputs": [],
   "source": [
    "# Loop Through Age Groups and Add to Room Age Mix\n",
    "for day in range(num_days):\n",
    "    for room in range(num_rooms):\n",
    "        for age_group in age_groups.values():\n",
    "            room_age_mix[day][room].add(age_group)\n",
    "\n",
    "room_age_mix"
   ]
  }
 ],
 "metadata": {
  "language_info": {
   "name": "python"
  }
 },
 "nbformat": 4,
 "nbformat_minor": 2
}
